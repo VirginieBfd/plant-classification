{
 "cells": [
  {
   "cell_type": "code",
   "execution_count": 1,
   "metadata": {},
   "outputs": [],
   "source": [
    "import numpy as np\n",
    "import matplotlib.pyplot as plt\n",
    "import pandas as pd\n",
    "\n",
    "import tensorflow as tf\n",
    "from tensorflow import keras\n",
    "\n",
    "import os\n",
    "from tqdm import tqdm\n",
    "\n",
    "from tensorflow.keras.models import Sequential\n",
    "from tensorflow.keras.layers import InputLayer, Input\n",
    "from tensorflow.keras.layers import Conv2D, Dense, Flatten, Dropout, Activation\n",
    "from tensorflow.keras.layers import BatchNormalization, Reshape, MaxPooling2D, GlobalAveragePooling2D\n",
    "from tensorflow.keras.preprocessing.image import ImageDataGenerator\n",
    "from tensorflow.keras.callbacks import EarlyStopping, ModelCheckpoint, ReduceLROnPlateau"
   ]
  },
  {
   "cell_type": "code",
   "execution_count": 2,
   "metadata": {},
   "outputs": [
    {
     "name": "stdout",
     "output_type": "stream",
     "text": [
      "1.10.0\n",
      "True\n"
     ]
    }
   ],
   "source": [
    "print(tf.__version__)\n",
    "print(tf.test.is_gpu_available())"
   ]
  },
  {
   "cell_type": "code",
   "execution_count": 3,
   "metadata": {},
   "outputs": [],
   "source": [
    "width = 256\n",
    "height = 256\n",
    "depth = 3\n",
    "train_data_dir = \"train/\"\n",
    "class_mode='categorical'\n",
    "batch_size = 8\n",
    "validation_split = 0.2\n",
    "input_shape = (width, height, depth)\n",
    "num_classes = len(next(os.walk(train_data_dir))[1])"
   ]
  },
  {
   "cell_type": "markdown",
   "metadata": {},
   "source": [
    "# Data Augmentation and Training/Validation Splitting"
   ]
  },
  {
   "cell_type": "code",
   "execution_count": 4,
   "metadata": {},
   "outputs": [
    {
     "name": "stdout",
     "output_type": "stream",
     "text": [
      "Found 3803 images belonging to 12 classes.\n",
      "Found 947 images belonging to 12 classes.\n"
     ]
    }
   ],
   "source": [
    "train_datagen = ImageDataGenerator(\n",
    "    rescale=1. / 255,\n",
    "    horizontal_flip=True,\n",
    "    vertical_flip=True,\n",
    "    fill_mode = 'nearest', \n",
    "    zoom_range = 0.3,\n",
    "    width_shift_range = 0.3, \n",
    "    height_shift_range = 0.3, \n",
    "    rotation_range=360,\n",
    "    validation_split=validation_split)\n",
    "\n",
    "train_generator = train_datagen.flow_from_directory(\n",
    "    train_data_dir,\n",
    "    shuffle=True,\n",
    "    target_size=(height, width),\n",
    "    batch_size=batch_size,\n",
    "    class_mode=class_mode,\n",
    "    subset='training') # set as training data\n",
    "\n",
    "validation_generator = train_datagen.flow_from_directory(\n",
    "    train_data_dir, # same directory as training data\n",
    "    target_size=(width, height),\n",
    "    batch_size=batch_size,\n",
    "    class_mode=class_mode,\n",
    "    subset='validation') # set as validation data"
   ]
  },
  {
   "cell_type": "markdown",
   "metadata": {},
   "source": [
    "# Dealing with unbalanced dataset\n",
    "The dataset is slightly unbalanced, so we will be using a weighted loss function and f1 score."
   ]
  },
  {
   "cell_type": "code",
   "execution_count": 5,
   "metadata": {},
   "outputs": [
    {
     "data": {
      "image/png": "[encoded data removed]",
      "text/plain": [
       "<Figure size 432x288 with 1 Axes>"
      ]
     },
     "metadata": {
      "needs_background": "light"
     },
     "output_type": "display_data"
    }
   ],
   "source": [
    "import glob\n",
    "import seaborn as sns\n",
    "from sklearn.utils import class_weight\n",
    "\n",
    "content = []\n",
    "for subdirectory in glob.glob('train/**/'):\n",
    "    content.append([subdirectory.split('/')[1].split('/')[0], len(glob.glob(subdirectory+'*png'))])\n",
    "data = pd.DataFrame(content, columns=['Crop', '# Images'])\n",
    "\n",
    "# Plot Distribution Data By Crop\n",
    "sns.barplot(x='# Images', y=\"Crop\", data=data, palette=\"Blues\");\n",
    "\n",
    "class_weights = class_weight.compute_class_weight(\n",
    "           'balanced',\n",
    "            np.unique(train_generator.classes), \n",
    "            train_generator.classes)"
   ]
  },
  {
   "cell_type": "markdown",
   "metadata": {},
   "source": [
    "# Build model - Simple CNN"
   ]
  },
  {
   "cell_type": "code",
   "execution_count": 6,
   "metadata": {},
   "outputs": [],
   "source": [
    "drop_out_rate = 0.25\n",
    "\n",
    "def get_model(input_shape, num_classes, drop_out_rate):\n",
    "\n",
    "    cnn4 = Sequential()\n",
    "    # 256\n",
    "    cnn4.add(Conv2D(32, kernel_size=(3, 3), activation='relu', input_shape=input_shape))\n",
    "    cnn4.add(BatchNormalization())\n",
    "\n",
    "    cnn4.add(Conv2D(32, kernel_size=(3, 3), activation='relu'))\n",
    "    cnn4.add(BatchNormalization())\n",
    "    cnn4.add(MaxPooling2D(pool_size=(2, 2)))\n",
    "    cnn4.add(Dropout(drop_out_rate))\n",
    "\n",
    "    cnn4.add(Conv2D(64, kernel_size=(3, 3), activation='relu'))\n",
    "    cnn4.add(BatchNormalization())\n",
    "    cnn4.add(Dropout(drop_out_rate))\n",
    "\n",
    "    cnn4.add(Conv2D(128, kernel_size=(3, 3), activation='relu'))\n",
    "    cnn4.add(BatchNormalization())\n",
    "    cnn4.add(MaxPooling2D(pool_size=(2, 2)))\n",
    "    cnn4.add(Dropout(drop_out_rate))\n",
    "   \n",
    "    cnn4.add(GlobalAveragePooling2D())\n",
    "\n",
    "    cnn4.add(Dense(512, activation='relu'))\n",
    "    cnn4.add(BatchNormalization())\n",
    "    cnn4.add(Dropout(drop_out_rate))\n",
    "\n",
    "    cnn4.add(Dense(128, activation='relu'))\n",
    "    cnn4.add(BatchNormalization())\n",
    "    cnn4.add(Dropout(drop_out_rate))\n",
    "\n",
    "    cnn4.add(Dense(num_classes, activation='softmax'))\n",
    "    \n",
    "    return cnn4\n",
    "\n",
    "model = get_model(input_shape=input_shape, num_classes=num_classes, drop_out_rate=drop_out_rate)"
   ]
  },
  {
   "cell_type": "code",
   "execution_count": 7,
   "metadata": {},
   "outputs": [
    {
     "name": "stdout",
     "output_type": "stream",
     "text": [
      "_________________________________________________________________\n",
      "Layer (type)                 Output Shape              Param #   \n",
      "=================================================================\n",
      "conv2d (Conv2D)              (None, 254, 254, 32)      896       \n",
      "_________________________________________________________________\n",
      "batch_normalization (BatchNo (None, 254, 254, 32)      128       \n",
      "_________________________________________________________________\n",
      "conv2d_1 (Conv2D)            (None, 252, 252, 32)      9248      \n",
      "_________________________________________________________________\n",
      "batch_normalization_1 (Batch (None, 252, 252, 32)      128       \n",
      "_________________________________________________________________\n",
      "max_pooling2d (MaxPooling2D) (None, 126, 126, 32)      0         \n",
      "_________________________________________________________________\n",
      "dropout (Dropout)            (None, 126, 126, 32)      0         \n",
      "_________________________________________________________________\n",
      "conv2d_2 (Conv2D)            (None, 124, 124, 64)      18496     \n",
      "_________________________________________________________________\n",
      "batch_normalization_2 (Batch (None, 124, 124, 64)      256       \n",
      "_________________________________________________________________\n",
      "dropout_1 (Dropout)          (None, 124, 124, 64)      0         \n",
      "_________________________________________________________________\n",
      "conv2d_3 (Conv2D)            (None, 122, 122, 128)     73856     \n",
      "_________________________________________________________________\n",
      "batch_normalization_3 (Batch (None, 122, 122, 128)     512       \n",
      "_________________________________________________________________\n",
      "max_pooling2d_1 (MaxPooling2 (None, 61, 61, 128)       0         \n",
      "_________________________________________________________________\n",
      "dropout_2 (Dropout)          (None, 61, 61, 128)       0         \n",
      "_________________________________________________________________\n",
      "global_average_pooling2d (Gl (None, 128)               0         \n",
      "_________________________________________________________________\n",
      "dense (Dense)                (None, 512)               66048     \n",
      "_________________________________________________________________\n",
      "batch_normalization_4 (Batch (None, 512)               2048      \n",
      "_________________________________________________________________\n",
      "dropout_3 (Dropout)          (None, 512)               0         \n",
      "_________________________________________________________________\n",
      "dense_1 (Dense)              (None, 128)               65664     \n",
      "_________________________________________________________________\n",
      "batch_normalization_5 (Batch (None, 128)               512       \n",
      "_________________________________________________________________\n",
      "dropout_4 (Dropout)          (None, 128)               0         \n",
      "_________________________________________________________________\n",
      "dense_2 (Dense)              (None, 12)                1548      \n",
      "=================================================================\n",
      "Total params: 239,340\n",
      "Trainable params: 237,548\n",
      "Non-trainable params: 1,792\n",
      "_________________________________________________________________\n"
     ]
    }
   ],
   "source": [
    "model.summary()"
   ]
  },
  {
   "cell_type": "code",
   "execution_count": 8,
   "metadata": {},
   "outputs": [
    {
     "name": "stderr",
     "output_type": "stream",
     "text": [
      "Using TensorFlow backend.\n"
     ]
    }
   ],
   "source": [
    "from generic.deep_learning_tools.performance_metrics import EvaluationMetrics\n",
    "\n",
    "model.compile(loss =keras.losses.categorical_crossentropy, optimizer ='Adam', metrics=[EvaluationMetrics().f1])\n",
    "\n",
    "callbacks = [ReduceLROnPlateau(), EarlyStopping(monitor='val_loss', patience=25), ModelCheckpoint(filepath='cnn4.h5', monitor='val_loss', save_best_only=True)]"
   ]
  },
  {
   "cell_type": "markdown",
   "metadata": {},
   "source": [
    "# Training"
   ]
  },
  {
   "cell_type": "markdown",
   "metadata": {},
   "source": [
    "epochs = 100\n",
    "history = model.fit_generator(train_generator,\n",
    "          validation_data=validation_generator,\n",
    "          epochs=epochs,\n",
    "          verbose=1,\n",
    "          shuffle=True,\n",
    "          callbacks=callbacks)"
   ]
  }
 ],
 "metadata": {
  "kernelspec": {
   "display_name": "hb",
   "language": "python",
   "name": "hb"
  },
  "language_info": {
   "codemirror_mode": {
    "name": "ipython",
    "version": 3
   },
   "file_extension": ".py",
   "mimetype": "text/x-python",
   "name": "python",
   "nbconvert_exporter": "python",
   "pygments_lexer": "ipython3",
   "version": "3.5.6"
  }
 },
 "nbformat": 4,
 "nbformat_minor": 2
}
