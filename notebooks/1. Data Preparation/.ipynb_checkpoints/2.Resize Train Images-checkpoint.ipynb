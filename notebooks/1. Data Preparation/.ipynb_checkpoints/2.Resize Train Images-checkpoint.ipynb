{
 "cells": [
  {
   "cell_type": "markdown",
   "metadata": {},
   "source": [
    "# Kaggle Competition  - Can you differentiate a weed from a crop seedling?\n",
    "The ability to do so effectively can mean better crop yields and better stewardship of the environment. The Aarhus University Signal Processing group, in collaboration with University of Southern Denmark, has recently released a dataset containing images of approximately 960 unique plants (4750 images in total) belonging to 12 species at several growth stages."
   ]
  },
  {
   "cell_type": "code",
   "execution_count": 2,
   "metadata": {},
   "outputs": [],
   "source": [
    "import pandas as pd\n",
    "from matplotlib import pyplot as plt\n",
    "import numpy as np\n",
    "import cv2\n",
    "%matplotlib inline\n",
    "from glob import glob\n",
    "import seaborn as sns\n",
    "from numpy import array\n",
    "from numpy import argmax\n",
    "from sklearn.preprocessing import LabelEncoder\n",
    "from sklearn.preprocessing import OneHotEncoder\n",
    "from sklearn.model_selection import train_test_split\n",
    "enc = OneHotEncoder(handle_unknown='ignore')\n",
    "train_base_dir = '../../data/train/'\n",
    "test_base_dir = '../../data/test/'"
   ]
  },
  {
   "cell_type": "markdown",
   "metadata": {},
   "source": [
    "# Opening a few random images\n",
    "The image are squared but with different pixel width."
   ]
  },
  {
   "cell_type": "code",
   "execution_count": 15,
   "metadata": {},
   "outputs": [
    {
     "data": {
      "image/png": "[encoded data removed]",
      "text/plain": [
       "<Figure size 1080x720 with 3 Axes>"
      ]
     },
     "metadata": {
      "needs_background": "light"
     },
     "output_type": "display_data"
    }
   ],
   "source": [
    "sampled_data_paths = ['{}SugarBeet/0b992e297.png'.format(train_base_dir), '{}Cleavers/0ac0f0a66.png'.format(train_base_dir), '{}BlackGrass/3f268bcf8.png'.format(train_base_dir)] \n",
    "\n",
    "plt.figure(figsize=(15,10))\n",
    "for i, (path, crop_name) in enumerate(zip(sampled_data_paths, ['SugarBeet', 'Cleavers', 'BlackGrass'])):\n",
    "    img = cv2.imread(path)\n",
    "    RGB_im = cv2.cvtColor(img, cv2.COLOR_BGR2RGB)\n",
    "    plt.subplot(1,len(sampled_data_paths), i+1)\n",
    "    plt.imshow(RGB_im)\n",
    "    plt.title('{} {}x{} pixels'.format(crop_name, RGB_im.shape[0], RGB_im.shape[1]))"
   ]
  },
  {
   "cell_type": "code",
   "execution_count": 12,
   "metadata": {},
   "outputs": [
    {
     "data": {
      "text/html": [
       "<div>\n",
       "<style scoped>\n",
       "    .dataframe tbody tr th:only-of-type {\n",
       "        vertical-align: middle;\n",
       "    }\n",
       "\n",
       "    .dataframe tbody tr th {\n",
       "        vertical-align: top;\n",
       "    }\n",
       "\n",
       "    .dataframe thead th {\n",
       "        text-align: right;\n",
       "    }\n",
       "</style>\n",
       "<table border=\"1\" class=\"dataframe\">\n",
       "  <thead>\n",
       "    <tr style=\"text-align: right;\">\n",
       "      <th></th>\n",
       "      <th>Crop</th>\n",
       "      <th>Unique Path Image</th>\n",
       "    </tr>\n",
       "  </thead>\n",
       "  <tbody>\n",
       "    <tr>\n",
       "      <th>0</th>\n",
       "      <td>Cleavers</td>\n",
       "      <td>../../data/train//Cleavers/565a81e32.png</td>\n",
       "    </tr>\n",
       "    <tr>\n",
       "      <th>1</th>\n",
       "      <td>Cleavers</td>\n",
       "      <td>../../data/train//Cleavers/feecf1be6.png</td>\n",
       "    </tr>\n",
       "    <tr>\n",
       "      <th>2</th>\n",
       "      <td>Cleavers</td>\n",
       "      <td>../../data/train//Cleavers/3fc47de35.png</td>\n",
       "    </tr>\n",
       "    <tr>\n",
       "      <th>3</th>\n",
       "      <td>Cleavers</td>\n",
       "      <td>../../data/train//Cleavers/07ac7bc07.png</td>\n",
       "    </tr>\n",
       "    <tr>\n",
       "      <th>4</th>\n",
       "      <td>Cleavers</td>\n",
       "      <td>../../data/train//Cleavers/4b9125e90.png</td>\n",
       "    </tr>\n",
       "  </tbody>\n",
       "</table>\n",
       "</div>"
      ],
      "text/plain": [
       "       Crop                         Unique Path Image\n",
       "0  Cleavers  ../../data/train//Cleavers/565a81e32.png\n",
       "1  Cleavers  ../../data/train//Cleavers/feecf1be6.png\n",
       "2  Cleavers  ../../data/train//Cleavers/3fc47de35.png\n",
       "3  Cleavers  ../../data/train//Cleavers/07ac7bc07.png\n",
       "4  Cleavers  ../../data/train//Cleavers/4b9125e90.png"
      ]
     },
     "execution_count": 12,
     "metadata": {},
     "output_type": "execute_result"
    }
   ],
   "source": [
    "crop_names = [path.split('/')[-1] for path in glob(train_base_dir+'/*')]\n",
    "df = pd.DataFrame(crop_names, columns=['Crop'])\n",
    "info = []\n",
    "for idx, row in df.iterrows():\n",
    "    info.append(pd.DataFrame([[row.Crop, path] for path in glob(train_base_dir+'/'+row.Crop+'/*')]))\n",
    "data = pd.concat(info)\n",
    "data.columns = ['Crop', 'Unique Path Image']\n",
    "data.head()"
   ]
  },
  {
   "cell_type": "markdown",
   "metadata": {},
   "source": [
    "# Image Resizing\n",
    "\n",
    "Images gathered from Internet will be of varying sizes. Due to presence of fully connected layers in most of the neural networks, the images being fed to network will be required of a fixed size (unless you are using Spatial Pyramid Pooling before passing to dense layers). Because of this, before the image augmentation happens, let us preprocess the images to the size which our network needs. With the fixed sized image, we get the benefits of processing them in batches."
   ]
  },
  {
   "cell_type": "code",
   "execution_count": 17,
   "metadata": {},
   "outputs": [],
   "source": [
    "X_img_file_paths = data['Unique Path Image'].values[:]"
   ]
  },
  {
   "cell_type": "code",
   "execution_count": null,
   "metadata": {},
   "outputs": [
    {
     "name": "stderr",
     "output_type": "stream",
     "text": [
      " 80%|███████▉  | 3784/4750 [01:39<00:23, 41.45it/s]"
     ]
    }
   ],
   "source": [
    "import tensorflow as tf\n",
    "import matplotlib.image as mpimg\n",
    "import numpy as np\n",
    "from tqdm import tqdm\n",
    "\n",
    "IMAGE_SIZE = 128\n",
    "\n",
    "def tf_resize_images(X_img_file_paths):\n",
    "    X_data = []\n",
    "    tf.reset_default_graph()\n",
    "    X = tf.placeholder(tf.float32, (None, None, 3))\n",
    "    tf_img = tf.image.resize_images(X, (IMAGE_SIZE, IMAGE_SIZE), \n",
    "                                    tf.image.ResizeMethod.NEAREST_NEIGHBOR)\n",
    "    with tf.Session() as sess:\n",
    "        sess.run(tf.global_variables_initializer())\n",
    "        \n",
    "        # Each image is resized individually as different image may be of different size.\n",
    "        for index, file_path in tqdm(enumerate(X_img_file_paths), total=len(X_img_file_paths)):\n",
    "            img = mpimg.imread(file_path)[:, :, :3] # Do not read alpha channel.\n",
    "            resized_img = sess.run(tf_img, feed_dict = {X: img})\n",
    "            mpimg.imsave(file_path, resized_img)\n",
    "tf_resize_images(X_img_file_paths)"
   ]
  }
 ],
 "metadata": {
  "kernelspec": {
   "display_name": "py35",
   "language": "python",
   "name": "py35"
  },
  "language_info": {
   "codemirror_mode": {
    "name": "ipython",
    "version": 3
   },
   "file_extension": ".py",
   "mimetype": "text/x-python",
   "name": "python",
   "nbconvert_exporter": "python",
   "pygments_lexer": "ipython3",
   "version": "3.5.6"
  }
 },
 "nbformat": 4,
 "nbformat_minor": 2
}
